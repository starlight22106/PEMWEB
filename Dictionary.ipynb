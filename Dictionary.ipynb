{
  "nbformat": 4,
  "nbformat_minor": 0,
  "metadata": {
    "colab": {
      "provenance": [],
      "collapsed_sections": [],
      "authorship_tag": "ABX9TyO9zDa7510HlXOnxd5UEJMK",
      "include_colab_link": true
    },
    "kernelspec": {
      "name": "python3",
      "display_name": "Python 3"
    },
    "language_info": {
      "name": "python"
    }
  },
  "cells": [
    {
      "cell_type": "markdown",
      "metadata": {
        "id": "view-in-github",
        "colab_type": "text"
      },
      "source": [
        "<a href=\"https://colab.research.google.com/github/starlight22106/PEMWEB/blob/main/Dictionary.ipynb\" target=\"_parent\"><img src=\"https://colab.research.google.com/assets/colab-badge.svg\" alt=\"Open In Colab\"/></a>"
      ]
    },
    {
      "cell_type": "code",
      "execution_count": null,
      "metadata": {
        "colab": {
          "base_uri": "https://localhost:8080/"
        },
        "id": "ivkS0rdLu9Zn",
        "outputId": "183c6e2d-a0d1-42c6-a7cb-ce3c02ade059"
      },
      "outputs": [
        {
          "output_type": "stream",
          "name": "stdout",
          "text": [
            "Data nilai {'Firda': 89, 'Siti': 90, 'Ani': 100, 'Uus': 98}\n",
            "Data Nilai : 89\n",
            "Data Nilai : 90\n",
            "Data Nilai : 100\n",
            "Data Nilai : 98\n",
            "Data Nama : Firda\n",
            "Data Nama : Siti\n",
            "Data Nama : Ani\n",
            "Data Nama : Uus\n",
            "Data Nama: Firda \t Nilai: 89 \n",
            "Data Nama: Siti \t Nilai: 90 \n",
            "Data Nama: Ani \t Nilai: 100 \n",
            "Data Nama: Uus \t Nilai: 98 \n"
          ]
        }
      ],
      "source": [
        "nilai = {'Firda':89, 'Siti':90, 'Ani':100, 'Uus':98}\n",
        "print(\"Data nilai\", nilai)\n",
        "for skor in nilai.values():\n",
        "  print(\"Data Nilai :\", skor)\n",
        "for nama in nilai.keys():\n",
        "  print(\"Data Nama :\", nama)  \n",
        "for nama,skor in nilai.items():\n",
        "  print(\"Data Nama: %s \\t Nilai: %i \" % (nama, skor))"
      ]
    },
    {
      "cell_type": "code",
      "source": [
        "#pembuatan dictionary\n",
        "s1 = {'nama':'Budi', 'nilai':75, \"mapel\":'Matematika'}\n",
        "s2 = {'nama' : 'Dewi', 'nilai':55, \"mapel\":'IPA'}\n",
        "s3 = {'nama' : 'Ani', 'nilai':95, \"mapel\":'IPS'}\n",
        "s4 = {'nama' : 'Bedu', 'nilai':30, \"mapel\":'Agama'}\n",
        "#pembuatan list\n",
        "ar_siswa = [s1,s2,s3,s4]\n",
        "for siswa in ar_siswa:\n",
        "  for key,data in siswa.items():\n",
        "    skor = siswa ['nilai']\n",
        "    ket = ('Gagal', 'lulus')[skor >= 60]\n",
        "    if skor >= 85 and skor <= 100: \n",
        "      grade = 'A'\n",
        "      predikat = 'Memuaskan'\n",
        "    elif skor >= 75 and skor <= 85:\n",
        "      grade = 'B'\n",
        "      predikat = 'Bagus'\n",
        "    elif skor >= 60 and skor <= 75:\n",
        "      grade = 'C'\n",
        "      predikat = 'Cukup'\n",
        "    elif skor >= 30 and skor <= 60:\n",
        "      grade = 'D'\n",
        "      predikat = 'Kurang'\n",
        "    else:\n",
        "      grade = ''\n",
        "      predikat = ''  \n",
        "    print(key, ':', data)\n",
        "  print('Keterangan', ket, 'Grade', grade, 'Predikat', predikat)    \n",
        "\n"
      ],
      "metadata": {
        "colab": {
          "base_uri": "https://localhost:8080/"
        },
        "id": "ejJAw2K8zBRr",
        "outputId": "a6ef55b3-58bf-4896-8037-af8c535ca49a"
      },
      "execution_count": null,
      "outputs": [
        {
          "output_type": "stream",
          "name": "stdout",
          "text": [
            "nama : Budi\n",
            "nilai : 75\n",
            "mapel : Matematika\n",
            "Keterangan lulus Grade B Predikat Bagus\n",
            "nama : Dewi\n",
            "nilai : 55\n",
            "mapel : IPA\n",
            "Keterangan Gagal Grade D Predikat Kurang\n",
            "nama : Ani\n",
            "nilai : 95\n",
            "mapel : IPS\n",
            "Keterangan lulus Grade A Predikat Memuaskan\n",
            "nama : Bedu\n",
            "nilai : 30\n",
            "mapel : Agama\n",
            "Keterangan Gagal Grade D Predikat Kurang\n"
          ]
        }
      ]
    },
    {
      "cell_type": "code",
      "source": [
        "#nested tuple\n",
        "gorengan = ('bakwan', 'combro', 'misro')\n",
        "sop = ('sop iga', 'sop buntut', 'sop sapi')\n",
        "nasi = ('nasi uduk', 'nasi goreng', 'nasi rames' )\n",
        "makanan = (gorengan, sop, nasi)\n",
        "print(makanan[1][1])\n"
      ],
      "metadata": {
        "id": "K-MPs4RJ3lTL"
      },
      "execution_count": null,
      "outputs": []
    },
    {
      "cell_type": "markdown",
      "source": [],
      "metadata": {
        "id": "FAgI_6YN3hP8"
      }
    }
  ]
}