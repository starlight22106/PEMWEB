{
  "nbformat": 4,
  "nbformat_minor": 0,
  "metadata": {
    "colab": {
      "provenance": [],
      "authorship_tag": "ABX9TyOk6F/aZ6WNrXz0V3vZ8jLK",
      "include_colab_link": true
    },
    "kernelspec": {
      "name": "python3",
      "display_name": "Python 3"
    },
    "language_info": {
      "name": "python"
    }
  },
  "cells": [
    {
      "cell_type": "markdown",
      "metadata": {
        "id": "view-in-github",
        "colab_type": "text"
      },
      "source": [
        "<a href=\"https://colab.research.google.com/github/starlight22106/PEMWEB/blob/main/tugas1_ddp_rabu_011012210_SI06.ipynb\" target=\"_parent\"><img src=\"https://colab.research.google.com/assets/colab-badge.svg\" alt=\"Open In Colab\"/></a>"
      ]
    },
    {
      "cell_type": "code",
      "execution_count": 1,
      "metadata": {
        "colab": {
          "base_uri": "https://localhost:8080/"
        },
        "id": "vN1_jCdKprLj",
        "outputId": "2d1e6af8-d1b4-4d03-be43-8eff2552c6a7"
      },
      "outputs": [
        {
          "output_type": "stream",
          "name": "stdout",
          "text": [
            "nama : Budi\n",
            "produk : TV\n",
            "jumlah : 3\n",
            "harga satuan\t: 5000000 \n",
            "harga kotor\t: 15000000 \n",
            "diskon\t\t: 750000.0 \n",
            "PPN\t\t\t: 1567500.0 \n",
            "harga bayar\t: 15817500.0 \n",
            "-------------------------------\n",
            "nama : Ani\n",
            "produk : AC\n",
            "jumlah : 4\n",
            "harga satuan\t: 6000000 \n",
            "harga kotor\t: 24000000 \n",
            "diskon\t\t: 1200000.0 \n",
            "PPN\t\t\t: 2508000.0 \n",
            "harga bayar\t: 25308000.0 \n",
            "-------------------------------\n",
            "nama : Siti\n",
            "produk : Kulkas\n",
            "jumlah : 2\n",
            "harga satuan\t: 700000 \n",
            "harga kotor\t: 1400000 \n",
            "diskon\t\t: 70000.0 \n",
            "PPN\t\t\t: 146300.0 \n",
            "harga bayar\t: 1476300.0 \n",
            "-------------------------------\n",
            "nama : Dewi\n",
            "produk : AC\n",
            "jumlah : 5\n",
            "harga satuan\t: 6000000 \n",
            "harga kotor\t: 30000000 \n",
            "diskon\t\t: 1500000.0 \n",
            "PPN\t\t\t: 3135000.0 \n",
            "harga bayar\t: 31635000.0 \n",
            "-------------------------------\n",
            "nama : Andi\n",
            "produk : Kulkas\n",
            "jumlah : 7\n",
            "harga satuan\t: 700000 \n",
            "harga kotor\t: 4900000 \n",
            "diskon\t\t: 245000.0 \n",
            "PPN\t\t\t: 512050.0 \n",
            "harga bayar\t: 5167050.0 \n",
            "-------------------------------\n",
            "nama : Dedi\n",
            "produk : AC\n",
            "jumlah : 1\n",
            "harga satuan\t: 6000000 \n",
            "harga kotor\t: 6000000 \n",
            "diskon\t\t: 300000.0 \n",
            "PPN\t\t\t: 627000.0 \n",
            "harga bayar\t: 6327000.0 \n",
            "-------------------------------\n",
            "nama : Sri\n",
            "produk : TV\n",
            "jumlah : 4\n",
            "harga satuan\t: 5000000 \n",
            "harga kotor\t: 20000000 \n",
            "diskon\t\t: 1000000.0 \n",
            "PPN\t\t\t: 2090000.0 \n",
            "harga bayar\t: 21090000.0 \n",
            "-------------------------------\n"
          ]
        }
      ],
      "source": [
        "p1 = {'nama':'Budi','produk': 'TV', 'jumlah': 3}\n",
        "p2 = {'nama':'Ani','produk': 'AC','jumlah': 4}\n",
        "p3 = {'nama':'Siti','produk': 'Kulkas','jumlah': 2}\n",
        "p4 = {'nama':'Dewi','produk': 'AC','jumlah': 5}\n",
        "p5 = {'nama':'Andi','produk': 'Kulkas','jumlah': 7}\n",
        "p6 = {'nama':'Dedi','produk': 'AC','jumlah': 1}\n",
        "p7 = {'nama':'Sri','produk': 'TV','jumlah': 4}\n",
        "\n",
        "ar_pelanggan =[p1,p2,p3,p4,p5,p6,p7]\n",
        "\n",
        "for pelanggan in ar_pelanggan:\n",
        "  for p in pelanggan:\n",
        "    #harga satuan\n",
        "    if pelanggan ['produk'] == 'TV':\n",
        "      harga_satuan =5000000\n",
        "    elif pelanggan ['produk'] == 'AC':\n",
        "      harga_satuan =6000000\n",
        "    else:\n",
        "      harga_satuan =700000\n",
        "\n",
        "    #harga kotor \n",
        "    harga_kotor = pelanggan['jumlah'] * harga_satuan\n",
        "\n",
        "    #diskon\n",
        "    if pelanggan['jumlah'] >=3 and pelanggan ['produk'] == 'kulkas':\n",
        "      diskon =0.2 * harga_kotor\n",
        "    else:\n",
        "      diskon =0.05 * harga_kotor\n",
        "      \n",
        "    #PPN\n",
        "    ppn = 0.11 * (harga_kotor - diskon)\n",
        "    \n",
        "    #harga bayar\n",
        "    harga_bayar = (harga_kotor + ppn) - diskon\n",
        "    print(p,':',pelanggan[p])\n",
        "    \n",
        "  print('harga satuan\\t:',harga_satuan,\n",
        "      '\\nharga kotor\\t:',harga_kotor,\n",
        "      '\\ndiskon\\t\\t:',diskon,\n",
        "      '\\nPPN\\t\\t\\t:',ppn,\n",
        "      '\\nharga bayar\\t:',harga_bayar,\n",
        "      '\\n-------------------------------')"
      ]
    }
  ]
}